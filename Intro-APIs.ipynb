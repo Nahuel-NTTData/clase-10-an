{
 "cells": [
  {
   "cell_type": "markdown",
   "metadata": {},
   "source": [
    "<div align=\"center\">\n",
    "    <h1>Introducción a las APIs</h1>\n",
    "</div>"
   ]
  },
  {
   "cell_type": "markdown",
   "metadata": {},
   "source": [
    "## ¿Qué es una API?"
   ]
  },
  {
   "cell_type": "markdown",
   "metadata": {},
   "source": [
    "Una **API** es una interfaz de programación de aplicaciones (en inglés *Application Programming Interface*). La interfaz se refiere a una capa de abstracción para que dos sistemas se comuniquen, para este caso dos o más aplicaciones.\n",
    "\n",
    "- Son conjuntos de definiciones y protocolos que se utilizan para diseñar e integrar el software de las aplicaciones. Suele considerarse como el contrato entre el proveedor de información y el usuario, donde se establece el contenido que se necesita por parte del consumidor (la llamada) y el que requiere el productor (la respuesta).\n",
    "\n",
    "- Esencialmente, permiten comunicar programas creados con diferentes arquitecturas entre ellos.\n",
    "De otra manera, funciona como un puente entre dos aplicaciones, para que puedan comunicarse.\n",
    "\n",
    "Imagina que te gustaría crear una aplicación tipo UBER, necesitarías los mapas de las ciudades y de distintas regiones, pero eso insumiría muchísimo dinero inicial que es probable vuelva imposible crear la aplicación. Entonces ¿Qué se podría hacer?... Conectarse a una API!.\n",
    "- La API de Google Maps nos ahorra tener que generar ese recurso por nosotros mismos, y potencia nuestra aplicación tipo UBER sin que nosotros tengamos que desarrollar esta solución aparte.\n",
    "\n",
    "En otra situación, quizás te gustaría crear una tienda de ecommerce para vos o alguien más, que permita facturar online y generar ingresos a través de internet. ¿Suena bien no? Pero ¿Cómo hacemos para que una persona pague en nuestra aplicación y ese dinero llegue a una cuenta bancaria? Deberíamos programar una aplicación que gestione toda la operación hasta los permisos, con las dificultades y tiempo que eso conlleva, entonces ¿Qué se podría hacer si no contamos con esta opción?... Conectarse a una API!\n",
    "\n",
    "- Entre varias opciones, la API de Mercado Pago, por ejemplo, permite generar una pasarela de pago para que se pague en nuestra aplicación y el dinero llegue a alguna cuenta. Esto permite que nosotros nos concentremos en la tienda ecommerce y en conectarnos a tal pasarela para cobrar online.\n",
    "Así como estos tenemos miles de ejemplos de APIs que se utilizan día a día para potenciar las aplicaciones y conectarse entre ellas, agilizando el desarrollo de software. \n",
    "\n",
    "Ejemplos:\n",
    "\n",
    "- La API del clima\n",
    "- La API de Mercado Pago\n",
    "- La API de Google Maps\n",
    "- Etc.\n",
    "\n",
    "En algunos casos las APIs son Públicas y gratuitas, y en otros casos privadas y se debe pagar por su uso. En este último caso, muchas veces existe la posibilidad de utilizar una capa gratuita que nos brindan para poder hacer pruebas.\n",
    "En GitHub podemos encontrar proyectos alojados que tienen APIs Públicas gratuitas, y otras de pago:\n",
    "\n",
    "- [Public APIs](https://github.com/public-apis/public-apis) (Recomendado)\n",
    "- [Public API Lists](https://github.com/public-api-lists/public-api-lists)"
   ]
  },
  {
   "cell_type": "markdown",
   "metadata": {},
   "source": [
    "### API REST"
   ]
  },
  {
   "cell_type": "markdown",
   "metadata": {},
   "source": [
    "¿Qué es REST?\n",
    "\n",
    "A modo general:\n",
    "- Re: Representational. El nombre tiene que representar, tener sentido a lo que hace.\n",
    "- S: State. El estado, las variables o los datos que va a contener la API.\n",
    "- T: Transfer. Se puede transferir el estado entre la API y nosotros, es decir se puede hacer un CRUD, Create, Read, Update, Delete.\n",
    "\n",
    "REST no es un protocolo ni un estándar, sino más bien un conjunto de límites de arquitectura. \n",
    "- Los desarrolladores de las API pueden implementarlo de distintas maneras.\n",
    "- El informático Roy Fielding es el creador de la transferencia de estado representacional (REST).\n",
    "\n",
    "Una API REST, o API RESTful, es una interfaz de programación de aplicaciones que se ajusta a los límites de la arquitectura REST, que permite a dos sistemas de computación intercambiar información de forma segura a través de Internet, y es de los tipos de APIs que más nos vamos a encontrar para trabajar habitualmente.\n",
    "\n",
    "La API REST se ajusta a los principios de diseño del estilo arquitectónico de transferencia de estado representacional.\\\n",
    "Además son:\n",
    "- Faciles de mantener\n",
    "- APIs escalables"
   ]
  },
  {
   "cell_type": "markdown",
   "metadata": {},
   "source": [
    "## Consumiendo APIs"
   ]
  },
  {
   "cell_type": "markdown",
   "metadata": {},
   "source": [
    "¿Qué es consumir una API?\n",
    "\n",
    "Básicamente es interactuar con esa API.\\\n",
    "Se puede interactuar con los métodos HTTP (también llamados verbos por ser acciones) más comunes que son:\n",
    "\n",
    "- `Get` --> Para Listar o Consultar\n",
    "  \n",
    "- `Post` --> Para Crear\n",
    "\n",
    "- `Put/Path` -->  Para Actualizar. (Put es para reemplazar, y Path para actualizar, pero prácticamente se refieren a lo mismo, actualizar algo)\n",
    "  \n",
    "- `Delete` --> Para Borrar\n",
    "\n",
    "Códigos de estado por convención:\n",
    "\n",
    "- 2xx: Solicitud Exitosa\n",
    "- 3xx: Redirecciones, temporales o permanentes.\n",
    "- 4xx: Solicitud inválida (404, página no encontrada)\n",
    "- 5xx: Errores en el servidor\n",
    "\n",
    "Si aplicamos los métodos y son exitosos, deberíamos obtener:\n",
    "- get -> 200 (OK)\n",
    "- post -> 201 (Created)\n",
    "- put / path / delete -> 204 (No content)\n",
    "\n",
    "Para mayor información:\\\n",
    "[Status Code](https://en.wikipedia.org/wiki/List_of_HTTP_status_codes)\n",
    "\n",
    "Al consumir una API las respuestas más comunes para compartir información pueden ser:\n",
    "- JSON (el más utilizado)\n",
    "- XML\n",
    "- Texto plano\n",
    "\n",
    "JSON (JavaScript Object Notation) es el formato de transferencia de datos más utilizado al día de hoy."
   ]
  },
  {
   "cell_type": "markdown",
   "metadata": {},
   "source": [
    "### Requests"
   ]
  },
  {
   "cell_type": "markdown",
   "metadata": {},
   "source": [
    "#### Instalando la librería Requests"
   ]
  },
  {
   "cell_type": "code",
   "execution_count": 1,
   "metadata": {},
   "outputs": [
    {
     "name": "stdout",
     "output_type": "stream",
     "text": [
      "Requirement already satisfied: requests in c:\\users\\nahue\\appdata\\local\\programs\\python\\python311\\lib\\site-packages (2.32.3)\n",
      "Requirement already satisfied: charset-normalizer<4,>=2 in c:\\users\\nahue\\appdata\\local\\programs\\python\\python311\\lib\\site-packages (from requests) (3.3.2)\n",
      "Requirement already satisfied: idna<4,>=2.5 in c:\\users\\nahue\\appdata\\local\\programs\\python\\python311\\lib\\site-packages (from requests) (3.7)\n",
      "Requirement already satisfied: urllib3<3,>=1.21.1 in c:\\users\\nahue\\appdata\\local\\programs\\python\\python311\\lib\\site-packages (from requests) (2.2.2)\n",
      "Requirement already satisfied: certifi>=2017.4.17 in c:\\users\\nahue\\appdata\\local\\programs\\python\\python311\\lib\\site-packages (from requests) (2024.7.4)\n",
      "Note: you may need to restart the kernel to use updated packages.\n"
     ]
    }
   ],
   "source": [
    "# %pip install requests"
   ]
  },
  {
   "cell_type": "markdown",
   "metadata": {},
   "source": [
    "#### Trabajando con Requests y JSON PlaceHolder"
   ]
  },
  {
   "cell_type": "markdown",
   "metadata": {},
   "source": [
    "##### Método Get, para listar"
   ]
  },
  {
   "cell_type": "code",
   "execution_count": 2,
   "metadata": {},
   "outputs": [
    {
     "name": "stdout",
     "output_type": "stream",
     "text": [
      "Respuesta: <Response [200]>\n",
      "Código de estado: 200\n",
      "Texto que envía la API: [\n",
      "  {\n",
      "    \"id\": 1,\n",
      "    \"name\": \"Leanne Graham\",\n",
      "    \"username\": \"Bret\",\n",
      "    \"email\": \"Sincere@april.biz\",\n",
      "    \"address\": {\n",
      "      \"street\": \"Kulas Light\",\n",
      "      \"suite\": \"Apt. 556\",\n",
      "      \"city\": \"Gwenborough\",\n",
      "      \"zipcode\": \"92998-3874\",\n",
      "      \"geo\": {\n",
      "        \"lat\": \"-37.3159\",\n",
      "        \"lng\": \"81.1496\"\n",
      "      }\n",
      "    },\n",
      "    \"phone\": \"1-770-736-8031 x56442\",\n",
      "    \"website\": \"hildegard.org\",\n",
      "    \"company\": {\n",
      "      \"name\": \"Romaguera-Crona\",\n",
      "      \"catchPhrase\": \"Multi-layered client-server neural-net\",\n",
      "      \"bs\": \"harness real-time e-markets\"\n",
      "    }\n",
      "  },\n",
      "  {\n",
      "    \"id\": 2,\n",
      "    \"name\": \"Ervin Howell\",\n",
      "    \"username\": \"Antonette\",\n",
      "    \"email\": \"Shanna@melissa.tv\",\n",
      "    \"address\": {\n",
      "      \"street\": \"Victor Plains\",\n",
      "      \"suite\": \"Suite 879\",\n",
      "      \"city\": \"Wisokyburgh\",\n",
      "      \"zipcode\": \"90566-7771\",\n",
      "      \"geo\": {\n",
      "        \"lat\": \"-43.9509\",\n",
      "        \"lng\": \"-34.4618\"\n",
      "      }\n",
      "    },\n",
      "    \"phone\": \"010-692-6593 x09125\",\n",
      "    \"website\": \"anastasia.net\",\n",
      "    \"company\": {\n",
      "      \"name\": \"Deckow-Crist\",\n",
      "      \"catchPhrase\": \"Proactive didactic contingency\",\n",
      "      \"bs\": \"synergize scalable supply-chains\"\n",
      "    }\n",
      "  },\n",
      "  {\n",
      "    \"id\": 3,\n",
      "    \"name\": \"Clementine Bauch\",\n",
      "    \"username\": \"Samantha\",\n",
      "    \"email\": \"Nathan@yesenia.net\",\n",
      "    \"address\": {\n",
      "      \"street\": \"Douglas Extension\",\n",
      "      \"suite\": \"Suite 847\",\n",
      "      \"city\": \"McKenziehaven\",\n",
      "      \"zipcode\": \"59590-4157\",\n",
      "      \"geo\": {\n",
      "        \"lat\": \"-68.6102\",\n",
      "        \"lng\": \"-47.0653\"\n",
      "      }\n",
      "    },\n",
      "    \"phone\": \"1-463-123-4447\",\n",
      "    \"website\": \"ramiro.info\",\n",
      "    \"company\": {\n",
      "      \"name\": \"Romaguera-Jacobson\",\n",
      "      \"catchPhrase\": \"Face to face bifurcated interface\",\n",
      "      \"bs\": \"e-enable strategic applications\"\n",
      "    }\n",
      "  },\n",
      "  {\n",
      "    \"id\": 4,\n",
      "    \"name\": \"Patricia Lebsack\",\n",
      "    \"username\": \"Karianne\",\n",
      "    \"email\": \"Julianne.OConner@kory.org\",\n",
      "    \"address\": {\n",
      "      \"street\": \"Hoeger Mall\",\n",
      "      \"suite\": \"Apt. 692\",\n",
      "      \"city\": \"South Elvis\",\n",
      "      \"zipcode\": \"53919-4257\",\n",
      "      \"geo\": {\n",
      "        \"lat\": \"29.4572\",\n",
      "        \"lng\": \"-164.2990\"\n",
      "      }\n",
      "    },\n",
      "    \"phone\": \"493-170-9623 x156\",\n",
      "    \"website\": \"kale.biz\",\n",
      "    \"company\": {\n",
      "      \"name\": \"Robel-Corkery\",\n",
      "      \"catchPhrase\": \"Multi-tiered zero tolerance productivity\",\n",
      "      \"bs\": \"transition cutting-edge web services\"\n",
      "    }\n",
      "  },\n",
      "  {\n",
      "    \"id\": 5,\n",
      "    \"name\": \"Chelsey Dietrich\",\n",
      "    \"username\": \"Kamren\",\n",
      "    \"email\": \"Lucio_Hettinger@annie.ca\",\n",
      "    \"address\": {\n",
      "      \"street\": \"Skiles Walks\",\n",
      "      \"suite\": \"Suite 351\",\n",
      "      \"city\": \"Roscoeview\",\n",
      "      \"zipcode\": \"33263\",\n",
      "      \"geo\": {\n",
      "        \"lat\": \"-31.8129\",\n",
      "        \"lng\": \"62.5342\"\n",
      "      }\n",
      "    },\n",
      "    \"phone\": \"(254)954-1289\",\n",
      "    \"website\": \"demarco.info\",\n",
      "    \"company\": {\n",
      "      \"name\": \"Keebler LLC\",\n",
      "      \"catchPhrase\": \"User-centric fault-tolerant solution\",\n",
      "      \"bs\": \"revolutionize end-to-end systems\"\n",
      "    }\n",
      "  },\n",
      "  {\n",
      "    \"id\": 6,\n",
      "    \"name\": \"Mrs. Dennis Schulist\",\n",
      "    \"username\": \"Leopoldo_Corkery\",\n",
      "    \"email\": \"Karley_Dach@jasper.info\",\n",
      "    \"address\": {\n",
      "      \"street\": \"Norberto Crossing\",\n",
      "      \"suite\": \"Apt. 950\",\n",
      "      \"city\": \"South Christy\",\n",
      "      \"zipcode\": \"23505-1337\",\n",
      "      \"geo\": {\n",
      "        \"lat\": \"-71.4197\",\n",
      "        \"lng\": \"71.7478\"\n",
      "      }\n",
      "    },\n",
      "    \"phone\": \"1-477-935-8478 x6430\",\n",
      "    \"website\": \"ola.org\",\n",
      "    \"company\": {\n",
      "      \"name\": \"Considine-Lockman\",\n",
      "      \"catchPhrase\": \"Synchronised bottom-line interface\",\n",
      "      \"bs\": \"e-enable innovative applications\"\n",
      "    }\n",
      "  },\n",
      "  {\n",
      "    \"id\": 7,\n",
      "    \"name\": \"Kurtis Weissnat\",\n",
      "    \"username\": \"Elwyn.Skiles\",\n",
      "    \"email\": \"Telly.Hoeger@billy.biz\",\n",
      "    \"address\": {\n",
      "      \"street\": \"Rex Trail\",\n",
      "      \"suite\": \"Suite 280\",\n",
      "      \"city\": \"Howemouth\",\n",
      "      \"zipcode\": \"58804-1099\",\n",
      "      \"geo\": {\n",
      "        \"lat\": \"24.8918\",\n",
      "        \"lng\": \"21.8984\"\n",
      "      }\n",
      "    },\n",
      "    \"phone\": \"210.067.6132\",\n",
      "    \"website\": \"elvis.io\",\n",
      "    \"company\": {\n",
      "      \"name\": \"Johns Group\",\n",
      "      \"catchPhrase\": \"Configurable multimedia task-force\",\n",
      "      \"bs\": \"generate enterprise e-tailers\"\n",
      "    }\n",
      "  },\n",
      "  {\n",
      "    \"id\": 8,\n",
      "    \"name\": \"Nicholas Runolfsdottir V\",\n",
      "    \"username\": \"Maxime_Nienow\",\n",
      "    \"email\": \"Sherwood@rosamond.me\",\n",
      "    \"address\": {\n",
      "      \"street\": \"Ellsworth Summit\",\n",
      "      \"suite\": \"Suite 729\",\n",
      "      \"city\": \"Aliyaview\",\n",
      "      \"zipcode\": \"45169\",\n",
      "      \"geo\": {\n",
      "        \"lat\": \"-14.3990\",\n",
      "        \"lng\": \"-120.7677\"\n",
      "      }\n",
      "    },\n",
      "    \"phone\": \"586.493.6943 x140\",\n",
      "    \"website\": \"jacynthe.com\",\n",
      "    \"company\": {\n",
      "      \"name\": \"Abernathy Group\",\n",
      "      \"catchPhrase\": \"Implemented secondary concept\",\n",
      "      \"bs\": \"e-enable extensible e-tailers\"\n",
      "    }\n",
      "  },\n",
      "  {\n",
      "    \"id\": 9,\n",
      "    \"name\": \"Glenna Reichert\",\n",
      "    \"username\": \"Delphine\",\n",
      "    \"email\": \"Chaim_McDermott@dana.io\",\n",
      "    \"address\": {\n",
      "      \"street\": \"Dayna Park\",\n",
      "      \"suite\": \"Suite 449\",\n",
      "      \"city\": \"Bartholomebury\",\n",
      "      \"zipcode\": \"76495-3109\",\n",
      "      \"geo\": {\n",
      "        \"lat\": \"24.6463\",\n",
      "        \"lng\": \"-168.8889\"\n",
      "      }\n",
      "    },\n",
      "    \"phone\": \"(775)976-6794 x41206\",\n",
      "    \"website\": \"conrad.com\",\n",
      "    \"company\": {\n",
      "      \"name\": \"Yost and Sons\",\n",
      "      \"catchPhrase\": \"Switchable contextually-based project\",\n",
      "      \"bs\": \"aggregate real-time technologies\"\n",
      "    }\n",
      "  },\n",
      "  {\n",
      "    \"id\": 10,\n",
      "    \"name\": \"Clementina DuBuque\",\n",
      "    \"username\": \"Moriah.Stanton\",\n",
      "    \"email\": \"Rey.Padberg@karina.biz\",\n",
      "    \"address\": {\n",
      "      \"street\": \"Kattie Turnpike\",\n",
      "      \"suite\": \"Suite 198\",\n",
      "      \"city\": \"Lebsackbury\",\n",
      "      \"zipcode\": \"31428-2261\",\n",
      "      \"geo\": {\n",
      "        \"lat\": \"-38.2386\",\n",
      "        \"lng\": \"57.2232\"\n",
      "      }\n",
      "    },\n",
      "    \"phone\": \"024-648-3804\",\n",
      "    \"website\": \"ambrose.net\",\n",
      "    \"company\": {\n",
      "      \"name\": \"Hoeger LLC\",\n",
      "      \"catchPhrase\": \"Centralized empowering task-force\",\n",
      "      \"bs\": \"target end-to-end models\"\n",
      "    }\n",
      "  }\n",
      "]\n"
     ]
    }
   ],
   "source": [
    "import requests\n",
    "\n",
    "# url = \"https://api.holamundo.io/users/\"\n",
    "# nuestro Endpoint, URL que vamos a usar para \"pegarle\" a esa API\n",
    "url = \"https://jsonplaceholder.typicode.com/users\"\n",
    "\n",
    "r = requests.get(url, timeout=10)\n",
    "print('Respuesta:', r)\n",
    "print('Código de estado:', r.status_code)\n",
    "print('Texto que envía la API:', r.text)\n"
   ]
  },
  {
   "cell_type": "markdown",
   "metadata": {},
   "source": [
    "Para acceder a los valores del texto, lo que necesitamos para trabajar"
   ]
  },
  {
   "cell_type": "code",
   "execution_count": 3,
   "metadata": {},
   "outputs": [
    {
     "name": "stdout",
     "output_type": "stream",
     "text": [
      "[{'id': 1, 'name': 'Leanne Graham', 'username': 'Bret', 'email': 'Sincere@april.biz', 'address': {'street': 'Kulas Light', 'suite': 'Apt. 556', 'city': 'Gwenborough', 'zipcode': '92998-3874', 'geo': {'lat': '-37.3159', 'lng': '81.1496'}}, 'phone': '1-770-736-8031 x56442', 'website': 'hildegard.org', 'company': {'name': 'Romaguera-Crona', 'catchPhrase': 'Multi-layered client-server neural-net', 'bs': 'harness real-time e-markets'}}, {'id': 2, 'name': 'Ervin Howell', 'username': 'Antonette', 'email': 'Shanna@melissa.tv', 'address': {'street': 'Victor Plains', 'suite': 'Suite 879', 'city': 'Wisokyburgh', 'zipcode': '90566-7771', 'geo': {'lat': '-43.9509', 'lng': '-34.4618'}}, 'phone': '010-692-6593 x09125', 'website': 'anastasia.net', 'company': {'name': 'Deckow-Crist', 'catchPhrase': 'Proactive didactic contingency', 'bs': 'synergize scalable supply-chains'}}, {'id': 3, 'name': 'Clementine Bauch', 'username': 'Samantha', 'email': 'Nathan@yesenia.net', 'address': {'street': 'Douglas Extension', 'suite': 'Suite 847', 'city': 'McKenziehaven', 'zipcode': '59590-4157', 'geo': {'lat': '-68.6102', 'lng': '-47.0653'}}, 'phone': '1-463-123-4447', 'website': 'ramiro.info', 'company': {'name': 'Romaguera-Jacobson', 'catchPhrase': 'Face to face bifurcated interface', 'bs': 'e-enable strategic applications'}}, {'id': 4, 'name': 'Patricia Lebsack', 'username': 'Karianne', 'email': 'Julianne.OConner@kory.org', 'address': {'street': 'Hoeger Mall', 'suite': 'Apt. 692', 'city': 'South Elvis', 'zipcode': '53919-4257', 'geo': {'lat': '29.4572', 'lng': '-164.2990'}}, 'phone': '493-170-9623 x156', 'website': 'kale.biz', 'company': {'name': 'Robel-Corkery', 'catchPhrase': 'Multi-tiered zero tolerance productivity', 'bs': 'transition cutting-edge web services'}}, {'id': 5, 'name': 'Chelsey Dietrich', 'username': 'Kamren', 'email': 'Lucio_Hettinger@annie.ca', 'address': {'street': 'Skiles Walks', 'suite': 'Suite 351', 'city': 'Roscoeview', 'zipcode': '33263', 'geo': {'lat': '-31.8129', 'lng': '62.5342'}}, 'phone': '(254)954-1289', 'website': 'demarco.info', 'company': {'name': 'Keebler LLC', 'catchPhrase': 'User-centric fault-tolerant solution', 'bs': 'revolutionize end-to-end systems'}}, {'id': 6, 'name': 'Mrs. Dennis Schulist', 'username': 'Leopoldo_Corkery', 'email': 'Karley_Dach@jasper.info', 'address': {'street': 'Norberto Crossing', 'suite': 'Apt. 950', 'city': 'South Christy', 'zipcode': '23505-1337', 'geo': {'lat': '-71.4197', 'lng': '71.7478'}}, 'phone': '1-477-935-8478 x6430', 'website': 'ola.org', 'company': {'name': 'Considine-Lockman', 'catchPhrase': 'Synchronised bottom-line interface', 'bs': 'e-enable innovative applications'}}, {'id': 7, 'name': 'Kurtis Weissnat', 'username': 'Elwyn.Skiles', 'email': 'Telly.Hoeger@billy.biz', 'address': {'street': 'Rex Trail', 'suite': 'Suite 280', 'city': 'Howemouth', 'zipcode': '58804-1099', 'geo': {'lat': '24.8918', 'lng': '21.8984'}}, 'phone': '210.067.6132', 'website': 'elvis.io', 'company': {'name': 'Johns Group', 'catchPhrase': 'Configurable multimedia task-force', 'bs': 'generate enterprise e-tailers'}}, {'id': 8, 'name': 'Nicholas Runolfsdottir V', 'username': 'Maxime_Nienow', 'email': 'Sherwood@rosamond.me', 'address': {'street': 'Ellsworth Summit', 'suite': 'Suite 729', 'city': 'Aliyaview', 'zipcode': '45169', 'geo': {'lat': '-14.3990', 'lng': '-120.7677'}}, 'phone': '586.493.6943 x140', 'website': 'jacynthe.com', 'company': {'name': 'Abernathy Group', 'catchPhrase': 'Implemented secondary concept', 'bs': 'e-enable extensible e-tailers'}}, {'id': 9, 'name': 'Glenna Reichert', 'username': 'Delphine', 'email': 'Chaim_McDermott@dana.io', 'address': {'street': 'Dayna Park', 'suite': 'Suite 449', 'city': 'Bartholomebury', 'zipcode': '76495-3109', 'geo': {'lat': '24.6463', 'lng': '-168.8889'}}, 'phone': '(775)976-6794 x41206', 'website': 'conrad.com', 'company': {'name': 'Yost and Sons', 'catchPhrase': 'Switchable contextually-based project', 'bs': 'aggregate real-time technologies'}}, {'id': 10, 'name': 'Clementina DuBuque', 'username': 'Moriah.Stanton', 'email': 'Rey.Padberg@karina.biz', 'address': {'street': 'Kattie Turnpike', 'suite': 'Suite 198', 'city': 'Lebsackbury', 'zipcode': '31428-2261', 'geo': {'lat': '-38.2386', 'lng': '57.2232'}}, 'phone': '024-648-3804', 'website': 'ambrose.net', 'company': {'name': 'Hoeger LLC', 'catchPhrase': 'Centralized empowering task-force', 'bs': 'target end-to-end models'}}]\n",
      "Leanne Graham\n",
      "Ervin Howell\n",
      "Clementine Bauch\n",
      "Patricia Lebsack\n",
      "Chelsey Dietrich\n",
      "Mrs. Dennis Schulist\n",
      "Kurtis Weissnat\n",
      "Nicholas Runolfsdottir V\n",
      "Glenna Reichert\n",
      "Clementina DuBuque\n"
     ]
    }
   ],
   "source": [
    "r = r.json()\n",
    "\n",
    "print(r)\n",
    "\n",
    "for user in r:\n",
    "    print(user[\"name\"])"
   ]
  },
  {
   "cell_type": "markdown",
   "metadata": {},
   "source": [
    "Accediendo a un único usuario y utilizando pprint para que sea vea más bonito"
   ]
  },
  {
   "cell_type": "code",
   "execution_count": 4,
   "metadata": {},
   "outputs": [
    {
     "name": "stdout",
     "output_type": "stream",
     "text": [
      "{'id': 1, 'name': 'Leanne Graham', 'username': 'Bret', 'email': 'Sincere@april.biz', 'address': {'street': 'Kulas Light', 'suite': 'Apt. 556', 'city': 'Gwenborough', 'zipcode': '92998-3874', 'geo': {'lat': '-37.3159', 'lng': '81.1496'}}, 'phone': '1-770-736-8031 x56442', 'website': 'hildegard.org', 'company': {'name': 'Romaguera-Crona', 'catchPhrase': 'Multi-layered client-server neural-net', 'bs': 'harness real-time e-markets'}}\n",
      "\n",
      "---------------- Métodos pprint vs pp ----------------\n",
      "{'address': {'city': 'Gwenborough',\n",
      "             'geo': {'lat': '-37.3159', 'lng': '81.1496'},\n",
      "             'street': 'Kulas Light',\n",
      "             'suite': 'Apt. 556',\n",
      "             'zipcode': '92998-3874'},\n",
      " 'company': {'bs': 'harness real-time e-markets',\n",
      "             'catchPhrase': 'Multi-layered client-server neural-net',\n",
      "             'name': 'Romaguera-Crona'},\n",
      " 'email': 'Sincere@april.biz',\n",
      " 'id': 1,\n",
      " 'name': 'Leanne Graham',\n",
      " 'phone': '1-770-736-8031 x56442',\n",
      " 'username': 'Bret',\n",
      " 'website': 'hildegard.org'}\n",
      "\n",
      "{'id': 1,\n",
      " 'name': 'Leanne Graham',\n",
      " 'username': 'Bret',\n",
      " 'email': 'Sincere@april.biz',\n",
      " 'address': {'street': 'Kulas Light',\n",
      "             'suite': 'Apt. 556',\n",
      "             'city': 'Gwenborough',\n",
      "             'zipcode': '92998-3874',\n",
      "             'geo': {'lat': '-37.3159', 'lng': '81.1496'}},\n",
      " 'phone': '1-770-736-8031 x56442',\n",
      " 'website': 'hildegard.org',\n",
      " 'company': {'name': 'Romaguera-Crona',\n",
      "             'catchPhrase': 'Multi-layered client-server neural-net',\n",
      "             'bs': 'harness real-time e-markets'}}\n"
     ]
    }
   ],
   "source": [
    "import pprint as pp\n",
    "\n",
    "url = \"https://jsonplaceholder.typicode.com/users/1\"\n",
    "\n",
    "r = requests.get(url, timeout=10)\n",
    "\n",
    "print(r.json())\n",
    "print()\n",
    "\n",
    "print(\"---------------- Métodos pprint vs pp ----------------\")\n",
    "\n",
    "\n",
    "# viene bonito y ordenado\n",
    "pp.pprint(r.json())\n",
    "\n",
    "print()\n",
    "\n",
    "# viene bonito y en el orden en el que se encuentra en el JSON\n",
    "pp.pp(r.json())"
   ]
  },
  {
   "cell_type": "markdown",
   "metadata": {},
   "source": [
    "##### Método Post, para crear"
   ]
  },
  {
   "cell_type": "code",
   "execution_count": 5,
   "metadata": {},
   "outputs": [
    {
     "name": "stdout",
     "output_type": "stream",
     "text": [
      "Created: 201\n",
      "{'name': 'Fulano Analítica Noviembre', 'id': 11}\n"
     ]
    }
   ],
   "source": [
    "import pprint as pp\n",
    "\n",
    "url = \"https://jsonplaceholder.typicode.com/users\"\n",
    "\n",
    "# user a insertar con post\n",
    "user = {\n",
    "    \"name\": \"Fulano Analítica Noviembre\"\n",
    "}\n",
    "\n",
    "# haciendo la petición post para agregar al user\n",
    "r = requests.post(url, timeout=10, data=user)\n",
    "\n",
    "print(\"Created:\", r.status_code)\n",
    "\n",
    "# consultando el alumno creado\n",
    "pp.pp(r.json())\n"
   ]
  },
  {
   "cell_type": "markdown",
   "metadata": {},
   "source": [
    "##### Método Put, para actualizar"
   ]
  },
  {
   "cell_type": "code",
   "execution_count": 6,
   "metadata": {},
   "outputs": [
    {
     "name": "stdout",
     "output_type": "stream",
     "text": [
      "Actualizado: 200\n",
      "{'name': 'Mengano Analítica Noviembre', 'id': 2}\n"
     ]
    }
   ],
   "source": [
    "import pprint as pp\n",
    "\n",
    "url = \"https://jsonplaceholder.typicode.com/users/2\"\n",
    "\n",
    "# user a actualizar con put\n",
    "user = {\n",
    "    \"name\": \"Mengano Analítica Noviembre\"\n",
    "}\n",
    "\n",
    "# haciendo la petición put para actualizar al user\n",
    "r = requests.put(url, timeout=10, data=user)\n",
    "\n",
    "print(\"Actualizado:\", r.status_code)\n",
    "\n",
    "# Consultando el alumno actualizado\n",
    "pp.pp(r.json())\n"
   ]
  },
  {
   "cell_type": "markdown",
   "metadata": {},
   "source": [
    "##### Método Delete, para eliminar"
   ]
  },
  {
   "cell_type": "code",
   "execution_count": null,
   "metadata": {},
   "outputs": [],
   "source": [
    "import requests\n",
    "\n",
    "url = \"https://jsonplaceholder.typicode.com/users/2\"\n",
    "\n",
    "r = requests.delete(url, timeout=10)\n",
    "\n",
    "print(r.status_code)"
   ]
  },
  {
   "cell_type": "markdown",
   "metadata": {},
   "source": [
    "#### Más ejemplos con get, post put y delete"
   ]
  },
  {
   "cell_type": "code",
   "execution_count": 1,
   "metadata": {},
   "outputs": [
    {
     "name": "stdout",
     "output_type": "stream",
     "text": [
      "{'userId': 1, 'id': 1, 'title': 'sunt aut facere repellat provident occaecati excepturi optio reprehenderit', 'body': 'quia et suscipit\\nsuscipit recusandae consequuntur expedita et cum\\nreprehenderit molestiae ut ut quas totam\\nnostrum rerum est autem sunt rem eveniet architecto'}\n",
      "{'userId': 1, 'id': 2, 'title': 'qui est esse', 'body': 'est rerum tempore vitae\\nsequi sint nihil reprehenderit dolor beatae ea dolores neque\\nfugiat blanditiis voluptate porro vel nihil molestiae ut reiciendis\\nqui aperiam non debitis possimus qui neque nisi nulla'}\n",
      "{'userId': 1, 'id': 3, 'title': 'ea molestias quasi exercitationem repellat qui ipsa sit aut', 'body': 'et iusto sed quo iure\\nvoluptatem occaecati omnis eligendi aut ad\\nvoluptatem doloribus vel accusantium quis pariatur\\nmolestiae porro eius odio et labore et velit aut'}\n",
      "{'userId': 1, 'id': 4, 'title': 'eum et est occaecati', 'body': 'ullam et saepe reiciendis voluptatem adipisci\\nsit amet autem assumenda provident rerum culpa\\nquis hic commodi nesciunt rem tenetur doloremque ipsam iure\\nquis sunt voluptatem rerum illo velit'}\n",
      "{'userId': 1, 'id': 5, 'title': 'nesciunt quas odio', 'body': 'repudiandae veniam quaerat sunt sed\\nalias aut fugiat sit autem sed est\\nvoluptatem omnis possimus esse voluptatibus quis\\nest aut tenetur dolor neque'}\n"
     ]
    }
   ],
   "source": [
    "import requests\n",
    "\n",
    "# Realizar una solicitud GET\n",
    "response = requests.get('https://jsonplaceholder.typicode.com/posts')\n",
    "if response.status_code == 200:\n",
    "    posts = response.json()\n",
    "    for post in posts[:5]:  # Mostramos los primeros 5 posts\n",
    "        print(post)\n",
    "else:\n",
    "    print(f\"Error: {response.status_code}\")\n"
   ]
  },
  {
   "cell_type": "code",
   "execution_count": 3,
   "metadata": {},
   "outputs": [
    {
     "name": "stdout",
     "output_type": "stream",
     "text": [
      "Nuevo recurso creado: {'title': 'titulo', 'body': 'cuerpo', 'id': 101}\n"
     ]
    }
   ],
   "source": [
    "import requests\n",
    "\n",
    "# Datos a enviar\n",
    "payload = {\n",
    "    'title': 'titulo',\n",
    "    'body': 'cuerpo'\n",
    "}\n",
    "\n",
    "# Realizar una solicitud POST\n",
    "response = requests.post('https://jsonplaceholder.typicode.com/posts', json=payload)\n",
    "if response.status_code == 201:\n",
    "    print('Nuevo recurso creado:', response.json())\n",
    "else:\n",
    "    print(f\"Error: {response.status_code}\")\n"
   ]
  },
  {
   "cell_type": "code",
   "execution_count": 5,
   "metadata": {},
   "outputs": [
    {
     "name": "stdout",
     "output_type": "stream",
     "text": [
      "Recurso actualizado: {'id': 1, 'title': 'titulo actualizado', 'body': 'cuerpo actualizado', 'userId': 1}\n"
     ]
    }
   ],
   "source": [
    "import requests\n",
    "\n",
    "# Datos a actualizar\n",
    "payload = {\n",
    "    'id': 1,\n",
    "    'title': 'titulo actualizado',\n",
    "    'body': 'cuerpo actualizado',\n",
    "    'userId': 1\n",
    "}\n",
    "\n",
    "# Realizar una solicitud PUT\n",
    "response = requests.put('https://jsonplaceholder.typicode.com/posts/1', json=payload)\n",
    "if response.status_code == 200:\n",
    "    print('Recurso actualizado:', response.json())\n",
    "else:\n",
    "    print(f\"Error: {response.status_code}\")\n"
   ]
  },
  {
   "cell_type": "code",
   "execution_count": 6,
   "metadata": {},
   "outputs": [
    {
     "name": "stdout",
     "output_type": "stream",
     "text": [
      "Recurso eliminado\n"
     ]
    }
   ],
   "source": [
    "import requests\n",
    "\n",
    "# Realizar una solicitud DELETE\n",
    "response = requests.delete('https://jsonplaceholder.typicode.com/posts/1')\n",
    "if response.status_code == 200:\n",
    "    print('Recurso eliminado')\n",
    "else:\n",
    "    print(f\"Error: {response.status_code}\")\n"
   ]
  },
  {
   "cell_type": "markdown",
   "metadata": {},
   "source": [
    "#### Headers en requests"
   ]
  },
  {
   "cell_type": "markdown",
   "metadata": {},
   "source": [
    "En ocasiones, puede que se necesite una api key porque la API esté protegida, por que se piden headers para brindar la autorización de interactuar con ella."
   ]
  },
  {
   "cell_type": "code",
   "execution_count": 7,
   "metadata": {},
   "outputs": [
    {
     "name": "stdout",
     "output_type": "stream",
     "text": [
      "<Response [200]>\n"
     ]
    }
   ],
   "source": [
    "# formato general de los headers\n",
    "# En este caso JSONPlaceHolder no lo requiere, es sólo a modo de ejemplo\n",
    "url = \"https://jsonplaceholder.typicode.com/users/2\"\n",
    "apikey=\"TuAPIKey\"\n",
    "headers = {\n",
    "    \"Authorization\": f\"Bearer {apikey}\"\n",
    "}\n",
    "\n",
    "r = requests.delete(url, timeout=10, headers=headers)\n",
    "print(r)"
   ]
  },
  {
   "cell_type": "markdown",
   "metadata": {},
   "source": [
    "<div align=\"center\">\n",
    "    <h5>Desarrollado con 💙 por <a href=\"https://github.com/nahuel-lopez-dev\"><b><i>NaLo Dev♾️</i></b></a></h5>\n",
    "</div>"
   ]
  },
  {
   "cell_type": "markdown",
   "metadata": {},
   "source": [
    "-----------"
   ]
  }
 ],
 "metadata": {
  "kernelspec": {
   "display_name": "Python 3",
   "language": "python",
   "name": "python3"
  },
  "language_info": {
   "codemirror_mode": {
    "name": "ipython",
    "version": 3
   },
   "file_extension": ".py",
   "mimetype": "text/x-python",
   "name": "python",
   "nbconvert_exporter": "python",
   "pygments_lexer": "ipython3",
   "version": "3.11.1"
  }
 },
 "nbformat": 4,
 "nbformat_minor": 2
}
